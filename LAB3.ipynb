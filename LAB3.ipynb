{
 "cells": [
  {
   "cell_type": "markdown",
   "id": "efde608f",
   "metadata": {},
   "source": [
    "![banner](banner.png)"
   ]
  },
  {
   "cell_type": "markdown",
   "id": "8f599294",
   "metadata": {},
   "source": [
    "# Convolutional Neural Networks - Lab 3.\n",
    "## Maestría en Ciencias de la Computación.\n",
    "### Guillermo Reyes Martínez."
   ]
  },
  {
   "cell_type": "code",
   "execution_count": 1,
   "id": "fd3bc576",
   "metadata": {},
   "outputs": [],
   "source": [
    "from sys import argv\n",
    "import csv\n",
    "import pandas as pd\n",
    "import matplotlib.pyplot as plt\n",
    "import random\n",
    "import math\n",
    "import matplotlib.pyplot as plt\n",
    "import numpy as np"
   ]
  },
  {
   "cell_type": "code",
   "execution_count": 2,
   "id": "3df383f7",
   "metadata": {},
   "outputs": [],
   "source": [
    "def theta_array(D):\n",
    "  theta = np.zeros(D+1)\n",
    "  return theta"
   ]
  },
  {
   "cell_type": "code",
   "execution_count": 3,
   "id": "2aaee4fc",
   "metadata": {},
   "outputs": [],
   "source": [
    "def poly(theta, D, x):\n",
    "  y = 0\n",
    "  for i in range(D+1):\n",
    "    y += theta[i]*(x**i)\n",
    "  return y"
   ]
  },
  {
   "cell_type": "code",
   "execution_count": 4,
   "id": "373c3426",
   "metadata": {},
   "outputs": [],
   "source": [
    "def evapoly(xi, theta, D):\n",
    "  y2 = []\n",
    "  for i in range (len(xi)):\n",
    "    a = poly(theta, D, xi[i])\n",
    "    y2.append(a)\n",
    "  return y2"
   ]
  },
  {
   "cell_type": "code",
   "execution_count": 5,
   "id": "26da6a90",
   "metadata": {},
   "outputs": [],
   "source": [
    "def cost(y_2, y_i, xi):\n",
    "  cost = []\n",
    "  for i in range (len(xi)):\n",
    "    costi = (yi[i] - y2[i])**2\n",
    "    cost.append(costi)\n",
    "  cost = np.sum(cost)*0.5\n",
    "  return cost"
   ]
  },
  {
   "cell_type": "code",
   "execution_count": 6,
   "id": "bad22f9e",
   "metadata": {},
   "outputs": [],
   "source": [
    "def theta_update(theta, alpha, y_2, y_i, x_i, D):\n",
    "  for i in range (D+1):\n",
    "    theta[i] = theta[i] + (alpha*((y_i - y_2)*(x_i**i)/(len(xi))))\n",
    "  return theta"
   ]
  },
  {
   "cell_type": "markdown",
   "id": "39e1b78f",
   "metadata": {},
   "source": [
    "![Instrucciones](LAB3-1.png)"
   ]
  },
  {
   "cell_type": "code",
   "execution_count": 7,
   "id": "c57c9422",
   "metadata": {},
   "outputs": [],
   "source": [
    "# read flash.dat to a list of lists\n",
    "xdat = [i.strip().split() for i in open(\"./ex2x.dat\").readlines()]\n",
    "ydat = [i.strip().split() for i in open(\"./ex2y.dat\").readlines()]\n",
    "#set every item of sublists into a single array\n",
    "xi = [item for sublist in xdat for item in sublist]\n",
    "yi = [item for sublist in ydat for item in sublist]\n",
    "#data taken was read as str due to the scientific notation, this code set all the array members\n",
    "#as numbers\n",
    "for i in range(len(xi)):\n",
    "    xi[i] = (np.longdouble(xi[i]))\n",
    "for i in range(len(yi)):\n",
    "    yi[i] = (np.longdouble(yi[i]))"
   ]
  },
  {
   "cell_type": "code",
   "execution_count": 8,
   "id": "8a99107b",
   "metadata": {
    "scrolled": true
   },
   "outputs": [
    {
     "data": {
      "text/plain": [
       "Text(0.5, 1.0, 'Training data set')"
      ]
     },
     "execution_count": 8,
     "metadata": {},
     "output_type": "execute_result"
    },
    {
     "data": {
      "image/png": "[encoded data removed]",
      "text/plain": [
       "<Figure size 504x360 with 1 Axes>"
      ]
     },
     "metadata": {
      "needs_background": "light"
     },
     "output_type": "display_data"
    }
   ],
   "source": [
    "plt.figure(figsize=(7, 5), constrained_layout=False)\n",
    "plt.scatter(xi, yi)\n",
    "plt.xlabel(\"Age in years\")\n",
    "plt.ylabel(\"Height in meters\")\n",
    "plt.title(\"Training data set\")"
   ]
  },
  {
   "cell_type": "markdown",
   "id": "3e2cdfab",
   "metadata": {},
   "source": [
    "![Instrucciones](LAB3-2.png)"
   ]
  },
  {
   "cell_type": "code",
   "execution_count": 9,
   "id": "c4532937",
   "metadata": {
    "scrolled": true
   },
   "outputs": [
    {
     "name": "stdout",
     "output_type": "stream",
     "text": [
      "[0.03750784 0.15017321]\n"
     ]
    },
    {
     "data": {
      "text/plain": [
       "Text(0.5, 1.0, '1 Iteration of SGD')"
      ]
     },
     "execution_count": 9,
     "metadata": {},
     "output_type": "execute_result"
    },
    {
     "data": {
      "image/png": "[encoded data removed]",
      "text/plain": [
       "<Figure size 504x360 with 1 Axes>"
      ]
     },
     "metadata": {
      "needs_background": "light"
     },
     "output_type": "display_data"
    }
   ],
   "source": [
    "D = 1\n",
    "theta = theta_array(D)\n",
    "alpha = 0.07\n",
    "y2 = evapoly(xi, theta, D)\n",
    "for i in range(1):\n",
    "  for j in range(len(xi)):\n",
    "    theta = theta_update(theta, alpha, y2[j], yi[j], xi[j], D)\n",
    "    y2 = evapoly(xi, theta, D)\n",
    "print(theta)\n",
    "plt.figure(figsize=(7, 5), constrained_layout=False)\n",
    "plt.scatter(xi, y2)\n",
    "plt.scatter(xi, yi)\n",
    "plt.xlabel(\"Age in years\")\n",
    "plt.ylabel(\"Height in meters\")\n",
    "plt.title(\"1 Iteration of SGD\")"
   ]
  },
  {
   "cell_type": "markdown",
   "id": "d0c101df",
   "metadata": {},
   "source": [
    "![Instrucciones](LAB3-3.png)"
   ]
  },
  {
   "cell_type": "code",
   "execution_count": 10,
   "id": "283aae76",
   "metadata": {
    "scrolled": false
   },
   "outputs": [
    {
     "name": "stdout",
     "output_type": "stream",
     "text": [
      "[0.72980393 0.06682581]\n"
     ]
    }
   ],
   "source": [
    "D = 1\n",
    "theta = theta_array(D)\n",
    "alpha = 0.07\n",
    "y2 = evapoly(xi, theta, D)\n",
    "for i in range(500):\n",
    "  for j in range(len(xi)):\n",
    "    theta = theta_update(theta, alpha, y2[j], yi[j], xi[j], D)\n",
    "    y2 = evapoly(xi, theta, D)\n",
    "print(theta)\n"
   ]
  },
  {
   "cell_type": "markdown",
   "id": "e2aa656b",
   "metadata": {},
   "source": [
    "![Instrucciones](LAB3-4.png)"
   ]
  },
  {
   "cell_type": "code",
   "execution_count": 14,
   "id": "8ce8619c",
   "metadata": {},
   "outputs": [
    {
     "data": {
      "text/plain": [
       "Text(0.5, 1.0, '100 Iterations of SGD')"
      ]
     },
     "execution_count": 14,
     "metadata": {},
     "output_type": "execute_result"
    },
    {
     "data": {
      "image/png": "[encoded data removed]",
      "text/plain": [
       "<Figure size 504x360 with 1 Axes>"
      ]
     },
     "metadata": {
      "needs_background": "light"
     },
     "output_type": "display_data"
    }
   ],
   "source": [
    "plt.figure(figsize=(7, 5), constrained_layout=False)\n",
    "plt.plot(xi, y2, color = 'red')\n",
    "plt.scatter(xi, yi)\n",
    "plt.xlabel(\"Age in years\")\n",
    "plt.ylabel(\"Height in meters\")\n",
    "plt.title(\"100 Iterations of SGD\")"
   ]
  },
  {
   "cell_type": "markdown",
   "id": "420522b7",
   "metadata": {},
   "source": [
    "![Instrucciones](LAB3-5.png)"
   ]
  },
  {
   "cell_type": "code",
   "execution_count": 12,
   "id": "fca63dd7",
   "metadata": {},
   "outputs": [
    {
     "name": "stdout",
     "output_type": "stream",
     "text": [
      "For a boy of age 3.5 our predicted height is:  0.9636942791477505\n",
      "For a boy of age 7 our predicted height is:  1.1975846265557903\n"
     ]
    }
   ],
   "source": [
    "test1 = poly(theta, D, 3.5)\n",
    "test2 = poly(theta, D, 7)\n",
    "print(\"For a boy of age 3.5 our predicted height is: \", test1)\n",
    "print(\"For a boy of age 7 our predicted height is: \", test2)"
   ]
  }
 ],
 "metadata": {
  "kernelspec": {
   "display_name": "Python 3 (ipykernel)",
   "language": "python",
   "name": "python3"
  },
  "language_info": {
   "codemirror_mode": {
    "name": "ipython",
    "version": 3
   },
   "file_extension": ".py",
   "mimetype": "text/x-python",
   "name": "python",
   "nbconvert_exporter": "python",
   "pygments_lexer": "ipython3",
   "version": "3.10.2"
  }
 },
 "nbformat": 4,
 "nbformat_minor": 5
}
